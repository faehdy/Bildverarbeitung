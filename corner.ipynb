{
 "cells": [
  {
   "cell_type": "code",
   "execution_count": 2,
   "metadata": {},
   "outputs": [
    {
     "name": "stderr",
     "output_type": "stream",
     "text": [
      "C:\\Users\\fadri_zkxoohp\\AppData\\Local\\Temp\\ipykernel_10480\\184973183.py:5: DeprecationWarning: Please use `correlate` from the `scipy.ndimage` namespace, the `scipy.ndimage.filters` namespace is deprecated.\n",
      "  from scipy.ndimage.filters import correlate\n"
     ]
    }
   ],
   "source": [
    "import numpy as np\n",
    "import cv2\n",
    "from scipy.ndimage import gaussian_filter\n",
    "from matplotlib import pyplot as plt\n",
    "from scipy.ndimage.filters import correlate\n",
    "Epsilon = 1e-7\n",
    "DPI = 120\n",
    "RADIUS = 2\n",
    "THICKNESS = 2\n",
    "COLOR = [255,0,0]"
   ]
  },
  {
   "cell_type": "markdown",
   "metadata": {},
   "source": [
    "### load image and compute the gradient"
   ]
  },
  {
   "cell_type": "code",
   "execution_count": 3,
   "metadata": {},
   "outputs": [],
   "source": [
    "# TODO \n",
    "input_img = cv2.imread('inputs/I1.jpg', 0) / 255\n",
    "dy, dx = np.gradient(input_img)"
   ]
  },
  {
   "cell_type": "markdown",
   "metadata": {},
   "source": [
    "### Compute structure tensor"
   ]
  },
  {
   "cell_type": "code",
   "execution_count": 1,
   "metadata": {},
   "outputs": [],
   "source": [
    "# TODO \n",
    "Ixx = ...\n",
    "Ixy = ...\n",
    "Iyy = ..."
   ]
  },
  {
   "cell_type": "markdown",
   "metadata": {},
   "source": [
    "### Compute Shi-Thomasi response and Harris response, please compare them in the end"
   ]
  },
  {
   "cell_type": "code",
   "execution_count": 31,
   "metadata": {},
   "outputs": [],
   "source": [
    "from numpy import linalg as LA\n",
    "# TODO \n",
    "response_shitomasi = ...\n",
    "response_harris = ..."
   ]
  },
  {
   "cell_type": "markdown",
   "metadata": {},
   "source": [
    "### Visualise the response map"
   ]
  },
  {
   "cell_type": "code",
   "execution_count": 3,
   "metadata": {},
   "outputs": [],
   "source": [
    "# choose either Shi-Tomasi or Harris response\n",
    "# TODO \n",
    "response = ...\n",
    "\n",
    "plt.figure(figsize=(12, 12),dpi=DPI)\n",
    "plt.subplot(121)\n",
    "plt.xticks([]), plt.yticks([])\n",
    "plt.imshow(input_img, cmap = 'gray')\n",
    "plt.title('Input image')\n",
    "\n",
    "plt.subplot(122)\n",
    "plt.xticks([]), plt.yticks([])\n",
    "plt.imshow(response, cmap=plt.cm.gray)\n",
    "plt.title('Response')\n",
    "plt.show()"
   ]
  },
  {
   "cell_type": "markdown",
   "metadata": {},
   "source": [
    "### Plot the histogram of responses"
   ]
  },
  {
   "cell_type": "code",
   "execution_count": 4,
   "metadata": {},
   "outputs": [],
   "source": [
    "plt.figure(figsize=(5,5), dpi=DPI)\n",
    "plt.hist(response.flatten()[response.flatten()>0])"
   ]
  },
  {
   "cell_type": "markdown",
   "metadata": {},
   "source": [
    "### Threshold the corners and visualise it"
   ]
  },
  {
   "cell_type": "code",
   "execution_count": 5,
   "metadata": {},
   "outputs": [],
   "source": [
    "# TODO \n",
    "threshold = ...\n",
    "\n",
    "corners =  cv2.cvtColor((input_img.copy() * 255).astype(np.uint8), cv2.COLOR_GRAY2RGB)\n",
    "mask = response>threshold\n",
    "\n",
    "x, y = np.where(mask)\n",
    "for idx in range(len(x)):\n",
    "    cv2.circle(corners, (y[idx],x[idx]), RADIUS, COLOR, THICKNESS)\n",
    "\n",
    "plt.figure(figsize=(12, 12),dpi=DPI)\n",
    "plt.subplot(121)\n",
    "plt.xticks([]), plt.yticks([])\n",
    "plt.imshow((input_img * 255).astype(np.uint8), cmap = 'gray')\n",
    "plt.title('Input image')\n",
    "\n",
    "plt.subplot(122)\n",
    "plt.xticks([]), plt.yticks([])\n",
    "plt.imshow(corners)\n",
    "plt.title('Harris corners')\n",
    "plt.show()"
   ]
  },
  {
   "cell_type": "markdown",
   "metadata": {},
   "source": [
    "### Apply NMS"
   ]
  },
  {
   "cell_type": "code",
   "execution_count": 6,
   "metadata": {},
   "outputs": [],
   "source": [
    "from scipy.ndimage import maximum_filter\n",
    "# TODO\n",
    "mask = ...\n",
    "\n",
    "corners_filter =  cv2.cvtColor((input_img.copy() * 255).astype(np.uint8), cv2.COLOR_GRAY2RGB)\n",
    "x, y = np.where(mask)\n",
    "for idx in range(len(x)):\n",
    "    cv2.circle(corners_filter, (y[idx],x[idx]), RADIUS, COLOR, THICKNESS)\n",
    "\n",
    "plt.figure(figsize=(12, 12),dpi=DPI)\n",
    "plt.subplot(121)\n",
    "plt.xticks([]), plt.yticks([])\n",
    "plt.imshow(corners)\n",
    "plt.title('Before NMS')\n",
    "\n",
    "plt.subplot(122)\n",
    "plt.xticks([]), plt.yticks([])\n",
    "plt.imshow(corners_filter)\n",
    "plt.title('After NMS')\n",
    "plt.show()"
   ]
  }
 ],
 "metadata": {
  "kernelspec": {
   "display_name": "Python 3 (ipykernel)",
   "language": "python",
   "name": "python3"
  },
  "language_info": {
   "codemirror_mode": {
    "name": "ipython",
    "version": 3
   },
   "file_extension": ".py",
   "mimetype": "text/x-python",
   "name": "python",
   "nbconvert_exporter": "python",
   "pygments_lexer": "ipython3",
   "version": "3.9.5"
  }
 },
 "nbformat": 4,
 "nbformat_minor": 4
}
